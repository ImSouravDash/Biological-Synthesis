{
 "cells": [
  {
   "cell_type": "code",
   "execution_count": 6,
   "id": "f74e5ec4",
   "metadata": {},
   "outputs": [],
   "source": [
    "import pandas as pd\n",
    "import numpy as np\n",
    "import matplotlib.pyplot as plt\n",
    "import seaborn as sns"
   ]
  },
  {
   "cell_type": "code",
   "execution_count": 7,
   "id": "afee7165",
   "metadata": {},
   "outputs": [],
   "source": [
    "df=pd.read_csv(\"C:/Users/mishr/Downloads/Nanoparticles_Synthesis_Dataset - Green_Synthesis.csv\")"
   ]
  },
  {
   "cell_type": "code",
   "execution_count": 8,
   "id": "1b228604",
   "metadata": {},
   "outputs": [
    {
     "data": {
      "text/html": [
       "<div>\n",
       "<style scoped>\n",
       "    .dataframe tbody tr th:only-of-type {\n",
       "        vertical-align: middle;\n",
       "    }\n",
       "\n",
       "    .dataframe tbody tr th {\n",
       "        vertical-align: top;\n",
       "    }\n",
       "\n",
       "    .dataframe thead th {\n",
       "        text-align: right;\n",
       "    }\n",
       "</style>\n",
       "<table border=\"1\" class=\"dataframe\">\n",
       "  <thead>\n",
       "    <tr style=\"text-align: right;\">\n",
       "      <th></th>\n",
       "      <th>NanoParticles</th>\n",
       "      <th>Coating</th>\n",
       "      <th>Reactant</th>\n",
       "      <th>Conc of Reactant(mmol/L)</th>\n",
       "      <th>Extract(Reducing Agent)</th>\n",
       "      <th>Conc. of Extract</th>\n",
       "      <th>Reactant:Extract(v/v)</th>\n",
       "      <th>Method</th>\n",
       "      <th>Temperature(°C)</th>\n",
       "      <th>Agitation</th>\n",
       "      <th>...</th>\n",
       "      <th>Average Size(nm)</th>\n",
       "      <th>Min Size(nm)</th>\n",
       "      <th>Max Size(nm)</th>\n",
       "      <th>Shape</th>\n",
       "      <th>Dispersity</th>\n",
       "      <th>Conc of NPs</th>\n",
       "      <th>Surface area</th>\n",
       "      <th>yield</th>\n",
       "      <th>Reference</th>\n",
       "      <th>Title of Article</th>\n",
       "    </tr>\n",
       "  </thead>\n",
       "  <tbody>\n",
       "    <tr>\n",
       "      <th>0</th>\n",
       "      <td>AgNPs</td>\n",
       "      <td>NaN</td>\n",
       "      <td>AgNO3</td>\n",
       "      <td>NaN</td>\n",
       "      <td>Opuntia ficus-indica</td>\n",
       "      <td>NaN</td>\n",
       "      <td>NaN</td>\n",
       "      <td>NaN</td>\n",
       "      <td>80.0</td>\n",
       "      <td>NaN</td>\n",
       "      <td>...</td>\n",
       "      <td>30</td>\n",
       "      <td>NaN</td>\n",
       "      <td>NaN</td>\n",
       "      <td>Spherical</td>\n",
       "      <td>NaN</td>\n",
       "      <td>53.20</td>\n",
       "      <td>NaN</td>\n",
       "      <td>54.8</td>\n",
       "      <td>1</td>\n",
       "      <td>Comparative antibacterial potential of silver ...</td>\n",
       "    </tr>\n",
       "    <tr>\n",
       "      <th>1</th>\n",
       "      <td>AgNPs</td>\n",
       "      <td>NaN</td>\n",
       "      <td>AgNO3</td>\n",
       "      <td>NaN</td>\n",
       "      <td>Bacillus megaterium</td>\n",
       "      <td>NaN</td>\n",
       "      <td>NaN</td>\n",
       "      <td>NaN</td>\n",
       "      <td>80.0</td>\n",
       "      <td>NaN</td>\n",
       "      <td>...</td>\n",
       "      <td>35</td>\n",
       "      <td>NaN</td>\n",
       "      <td>NaN</td>\n",
       "      <td>Spherical</td>\n",
       "      <td>NaN</td>\n",
       "      <td>20.40</td>\n",
       "      <td>NaN</td>\n",
       "      <td>21.0</td>\n",
       "      <td>1</td>\n",
       "      <td>Comparative antibacterial potential of silver ...</td>\n",
       "    </tr>\n",
       "    <tr>\n",
       "      <th>2</th>\n",
       "      <td>AgNPs</td>\n",
       "      <td>NaN</td>\n",
       "      <td>AgNO3</td>\n",
       "      <td>NaN</td>\n",
       "      <td>Aspergillus niger</td>\n",
       "      <td>NaN</td>\n",
       "      <td>NaN</td>\n",
       "      <td>NaN</td>\n",
       "      <td>80.0</td>\n",
       "      <td>NaN</td>\n",
       "      <td>...</td>\n",
       "      <td>42</td>\n",
       "      <td>NaN</td>\n",
       "      <td>NaN</td>\n",
       "      <td>Spherical</td>\n",
       "      <td>NaN</td>\n",
       "      <td>67.20</td>\n",
       "      <td>NaN</td>\n",
       "      <td>69.2</td>\n",
       "      <td>1</td>\n",
       "      <td>Comparative antibacterial potential of silver ...</td>\n",
       "    </tr>\n",
       "    <tr>\n",
       "      <th>3</th>\n",
       "      <td>AgNPs</td>\n",
       "      <td>NaN</td>\n",
       "      <td>NaN</td>\n",
       "      <td>NaN</td>\n",
       "      <td>NaN</td>\n",
       "      <td>NaN</td>\n",
       "      <td>NaN</td>\n",
       "      <td>NaN</td>\n",
       "      <td>80.0</td>\n",
       "      <td>NaN</td>\n",
       "      <td>...</td>\n",
       "      <td>39</td>\n",
       "      <td>NaN</td>\n",
       "      <td>NaN</td>\n",
       "      <td>Spherical</td>\n",
       "      <td>NaN</td>\n",
       "      <td>33.33</td>\n",
       "      <td>NaN</td>\n",
       "      <td>34.4</td>\n",
       "      <td>1</td>\n",
       "      <td>Comparative antibacterial potential of silver ...</td>\n",
       "    </tr>\n",
       "    <tr>\n",
       "      <th>4</th>\n",
       "      <td>AgNPs</td>\n",
       "      <td>TSC</td>\n",
       "      <td>NaN</td>\n",
       "      <td>NaN</td>\n",
       "      <td>NaN</td>\n",
       "      <td>NaN</td>\n",
       "      <td>NaN</td>\n",
       "      <td>NaN</td>\n",
       "      <td>NaN</td>\n",
       "      <td>NaN</td>\n",
       "      <td>...</td>\n",
       "      <td>35</td>\n",
       "      <td>NaN</td>\n",
       "      <td>NaN</td>\n",
       "      <td>Spherical</td>\n",
       "      <td>NaN</td>\n",
       "      <td>NaN</td>\n",
       "      <td>NaN</td>\n",
       "      <td>NaN</td>\n",
       "      <td>2</td>\n",
       "      <td>Size-Controlled Facile Synthesis of Silver Nan...</td>\n",
       "    </tr>\n",
       "  </tbody>\n",
       "</table>\n",
       "<p>5 rows × 21 columns</p>\n",
       "</div>"
      ],
      "text/plain": [
       "  NanoParticles Coating Reactant  Conc of Reactant(mmol/L)  \\\n",
       "0         AgNPs     NaN    AgNO3                       NaN   \n",
       "1         AgNPs     NaN    AgNO3                       NaN   \n",
       "2         AgNPs     NaN    AgNO3                       NaN   \n",
       "3         AgNPs     NaN      NaN                       NaN   \n",
       "4         AgNPs     TSC      NaN                       NaN   \n",
       "\n",
       "  Extract(Reducing Agent)  Conc. of Extract Reactant:Extract(v/v) Method  \\\n",
       "0    Opuntia ficus-indica               NaN                   NaN    NaN   \n",
       "1     Bacillus megaterium               NaN                   NaN    NaN   \n",
       "2       Aspergillus niger               NaN                   NaN    NaN   \n",
       "3                     NaN               NaN                   NaN    NaN   \n",
       "4                     NaN               NaN                   NaN    NaN   \n",
       "\n",
       "   Temperature(°C) Agitation  ...  Average Size(nm) Min Size(nm)  \\\n",
       "0             80.0       NaN  ...                30          NaN   \n",
       "1             80.0       NaN  ...                35          NaN   \n",
       "2             80.0       NaN  ...                42          NaN   \n",
       "3             80.0       NaN  ...                39          NaN   \n",
       "4              NaN       NaN  ...                35          NaN   \n",
       "\n",
       "   Max Size(nm)      Shape Dispersity Conc of NPs  Surface area  yield  \\\n",
       "0           NaN  Spherical        NaN       53.20           NaN   54.8   \n",
       "1           NaN  Spherical        NaN       20.40           NaN   21.0   \n",
       "2           NaN  Spherical        NaN       67.20           NaN   69.2   \n",
       "3           NaN  Spherical        NaN       33.33           NaN   34.4   \n",
       "4           NaN  Spherical        NaN         NaN           NaN    NaN   \n",
       "\n",
       "   Reference                                   Title of Article  \n",
       "0          1  Comparative antibacterial potential of silver ...  \n",
       "1          1  Comparative antibacterial potential of silver ...  \n",
       "2          1  Comparative antibacterial potential of silver ...  \n",
       "3          1  Comparative antibacterial potential of silver ...  \n",
       "4          2  Size-Controlled Facile Synthesis of Silver Nan...  \n",
       "\n",
       "[5 rows x 21 columns]"
      ]
     },
     "execution_count": 8,
     "metadata": {},
     "output_type": "execute_result"
    }
   ],
   "source": [
    "df.head()"
   ]
  },
  {
   "cell_type": "code",
   "execution_count": 9,
   "id": "fde43b2e",
   "metadata": {},
   "outputs": [
    {
     "data": {
      "text/html": [
       "<div>\n",
       "<style scoped>\n",
       "    .dataframe tbody tr th:only-of-type {\n",
       "        vertical-align: middle;\n",
       "    }\n",
       "\n",
       "    .dataframe tbody tr th {\n",
       "        vertical-align: top;\n",
       "    }\n",
       "\n",
       "    .dataframe thead th {\n",
       "        text-align: right;\n",
       "    }\n",
       "</style>\n",
       "<table border=\"1\" class=\"dataframe\">\n",
       "  <thead>\n",
       "    <tr style=\"text-align: right;\">\n",
       "      <th></th>\n",
       "      <th>NanoParticles</th>\n",
       "      <th>Coating</th>\n",
       "      <th>Reactant</th>\n",
       "      <th>Conc of Reactant(mmol/L)</th>\n",
       "      <th>Extract(Reducing Agent)</th>\n",
       "      <th>Conc. of Extract</th>\n",
       "      <th>Reactant:Extract(v/v)</th>\n",
       "      <th>Method</th>\n",
       "      <th>Temperature(°C)</th>\n",
       "      <th>Agitation</th>\n",
       "      <th>...</th>\n",
       "      <th>Average Size(nm)</th>\n",
       "      <th>Min Size(nm)</th>\n",
       "      <th>Max Size(nm)</th>\n",
       "      <th>Shape</th>\n",
       "      <th>Dispersity</th>\n",
       "      <th>Conc of NPs</th>\n",
       "      <th>Surface area</th>\n",
       "      <th>yield</th>\n",
       "      <th>Reference</th>\n",
       "      <th>Title of Article</th>\n",
       "    </tr>\n",
       "  </thead>\n",
       "  <tbody>\n",
       "    <tr>\n",
       "      <th>count</th>\n",
       "      <td>141</td>\n",
       "      <td>23</td>\n",
       "      <td>135</td>\n",
       "      <td>116.000000</td>\n",
       "      <td>133</td>\n",
       "      <td>20.000000</td>\n",
       "      <td>98</td>\n",
       "      <td>7</td>\n",
       "      <td>129.000000</td>\n",
       "      <td>1</td>\n",
       "      <td>...</td>\n",
       "      <td>128</td>\n",
       "      <td>4.000000</td>\n",
       "      <td>4.000000</td>\n",
       "      <td>130</td>\n",
       "      <td>36</td>\n",
       "      <td>9.000000</td>\n",
       "      <td>0.0</td>\n",
       "      <td>8.000000</td>\n",
       "      <td>141</td>\n",
       "      <td>140</td>\n",
       "    </tr>\n",
       "    <tr>\n",
       "      <th>unique</th>\n",
       "      <td>15</td>\n",
       "      <td>21</td>\n",
       "      <td>23</td>\n",
       "      <td>NaN</td>\n",
       "      <td>92</td>\n",
       "      <td>NaN</td>\n",
       "      <td>28</td>\n",
       "      <td>7</td>\n",
       "      <td>NaN</td>\n",
       "      <td>1</td>\n",
       "      <td>...</td>\n",
       "      <td>97</td>\n",
       "      <td>NaN</td>\n",
       "      <td>NaN</td>\n",
       "      <td>10</td>\n",
       "      <td>6</td>\n",
       "      <td>NaN</td>\n",
       "      <td>NaN</td>\n",
       "      <td>NaN</td>\n",
       "      <td>84</td>\n",
       "      <td>84</td>\n",
       "    </tr>\n",
       "    <tr>\n",
       "      <th>top</th>\n",
       "      <td>AgNPs</td>\n",
       "      <td>cytosol protein</td>\n",
       "      <td>AgNO3</td>\n",
       "      <td>NaN</td>\n",
       "      <td>Wedelia urticifolia</td>\n",
       "      <td>NaN</td>\n",
       "      <td>9</td>\n",
       "      <td>XRD</td>\n",
       "      <td>NaN</td>\n",
       "      <td>130rpm</td>\n",
       "      <td>...</td>\n",
       "      <td>50</td>\n",
       "      <td>NaN</td>\n",
       "      <td>NaN</td>\n",
       "      <td>Spherical</td>\n",
       "      <td>Polydisperse</td>\n",
       "      <td>NaN</td>\n",
       "      <td>NaN</td>\n",
       "      <td>NaN</td>\n",
       "      <td>46</td>\n",
       "      <td>Silver nanoparticles synthesis using Wedelia u...</td>\n",
       "    </tr>\n",
       "    <tr>\n",
       "      <th>freq</th>\n",
       "      <td>100</td>\n",
       "      <td>3</td>\n",
       "      <td>99</td>\n",
       "      <td>NaN</td>\n",
       "      <td>27</td>\n",
       "      <td>NaN</td>\n",
       "      <td>13</td>\n",
       "      <td>1</td>\n",
       "      <td>NaN</td>\n",
       "      <td>1</td>\n",
       "      <td>...</td>\n",
       "      <td>7</td>\n",
       "      <td>NaN</td>\n",
       "      <td>NaN</td>\n",
       "      <td>117</td>\n",
       "      <td>26</td>\n",
       "      <td>NaN</td>\n",
       "      <td>NaN</td>\n",
       "      <td>NaN</td>\n",
       "      <td>27</td>\n",
       "      <td>27</td>\n",
       "    </tr>\n",
       "    <tr>\n",
       "      <th>mean</th>\n",
       "      <td>NaN</td>\n",
       "      <td>NaN</td>\n",
       "      <td>NaN</td>\n",
       "      <td>25.742328</td>\n",
       "      <td>NaN</td>\n",
       "      <td>14.050000</td>\n",
       "      <td>NaN</td>\n",
       "      <td>NaN</td>\n",
       "      <td>44.426357</td>\n",
       "      <td>NaN</td>\n",
       "      <td>...</td>\n",
       "      <td>NaN</td>\n",
       "      <td>11.565000</td>\n",
       "      <td>49.192500</td>\n",
       "      <td>NaN</td>\n",
       "      <td>NaN</td>\n",
       "      <td>78.834444</td>\n",
       "      <td>NaN</td>\n",
       "      <td>55.112500</td>\n",
       "      <td>NaN</td>\n",
       "      <td>NaN</td>\n",
       "    </tr>\n",
       "    <tr>\n",
       "      <th>std</th>\n",
       "      <td>NaN</td>\n",
       "      <td>NaN</td>\n",
       "      <td>NaN</td>\n",
       "      <td>97.611576</td>\n",
       "      <td>NaN</td>\n",
       "      <td>12.037114</td>\n",
       "      <td>NaN</td>\n",
       "      <td>NaN</td>\n",
       "      <td>43.291847</td>\n",
       "      <td>NaN</td>\n",
       "      <td>...</td>\n",
       "      <td>NaN</td>\n",
       "      <td>5.893236</td>\n",
       "      <td>41.380449</td>\n",
       "      <td>NaN</td>\n",
       "      <td>NaN</td>\n",
       "      <td>159.707621</td>\n",
       "      <td>NaN</td>\n",
       "      <td>29.382183</td>\n",
       "      <td>NaN</td>\n",
       "      <td>NaN</td>\n",
       "    </tr>\n",
       "    <tr>\n",
       "      <th>min</th>\n",
       "      <td>NaN</td>\n",
       "      <td>NaN</td>\n",
       "      <td>NaN</td>\n",
       "      <td>0.010000</td>\n",
       "      <td>NaN</td>\n",
       "      <td>1.000000</td>\n",
       "      <td>NaN</td>\n",
       "      <td>NaN</td>\n",
       "      <td>23.000000</td>\n",
       "      <td>NaN</td>\n",
       "      <td>...</td>\n",
       "      <td>NaN</td>\n",
       "      <td>6.260000</td>\n",
       "      <td>20.000000</td>\n",
       "      <td>NaN</td>\n",
       "      <td>NaN</td>\n",
       "      <td>0.050000</td>\n",
       "      <td>NaN</td>\n",
       "      <td>13.500000</td>\n",
       "      <td>NaN</td>\n",
       "      <td>NaN</td>\n",
       "    </tr>\n",
       "    <tr>\n",
       "      <th>25%</th>\n",
       "      <td>NaN</td>\n",
       "      <td>NaN</td>\n",
       "      <td>NaN</td>\n",
       "      <td>1.000000</td>\n",
       "      <td>NaN</td>\n",
       "      <td>8.750000</td>\n",
       "      <td>NaN</td>\n",
       "      <td>NaN</td>\n",
       "      <td>25.000000</td>\n",
       "      <td>NaN</td>\n",
       "      <td>...</td>\n",
       "      <td>NaN</td>\n",
       "      <td>9.065000</td>\n",
       "      <td>25.077500</td>\n",
       "      <td>NaN</td>\n",
       "      <td>NaN</td>\n",
       "      <td>1.000000</td>\n",
       "      <td>NaN</td>\n",
       "      <td>31.050000</td>\n",
       "      <td>NaN</td>\n",
       "      <td>NaN</td>\n",
       "    </tr>\n",
       "    <tr>\n",
       "      <th>50%</th>\n",
       "      <td>NaN</td>\n",
       "      <td>NaN</td>\n",
       "      <td>NaN</td>\n",
       "      <td>1.000000</td>\n",
       "      <td>NaN</td>\n",
       "      <td>10.000000</td>\n",
       "      <td>NaN</td>\n",
       "      <td>NaN</td>\n",
       "      <td>25.000000</td>\n",
       "      <td>NaN</td>\n",
       "      <td>...</td>\n",
       "      <td>NaN</td>\n",
       "      <td>10.000000</td>\n",
       "      <td>33.385000</td>\n",
       "      <td>NaN</td>\n",
       "      <td>NaN</td>\n",
       "      <td>33.330000</td>\n",
       "      <td>NaN</td>\n",
       "      <td>62.000000</td>\n",
       "      <td>NaN</td>\n",
       "      <td>NaN</td>\n",
       "    </tr>\n",
       "    <tr>\n",
       "      <th>75%</th>\n",
       "      <td>NaN</td>\n",
       "      <td>NaN</td>\n",
       "      <td>NaN</td>\n",
       "      <td>10.000000</td>\n",
       "      <td>NaN</td>\n",
       "      <td>15.000000</td>\n",
       "      <td>NaN</td>\n",
       "      <td>NaN</td>\n",
       "      <td>60.000000</td>\n",
       "      <td>NaN</td>\n",
       "      <td>...</td>\n",
       "      <td>NaN</td>\n",
       "      <td>12.500000</td>\n",
       "      <td>57.500000</td>\n",
       "      <td>NaN</td>\n",
       "      <td>NaN</td>\n",
       "      <td>53.200000</td>\n",
       "      <td>NaN</td>\n",
       "      <td>74.500000</td>\n",
       "      <td>NaN</td>\n",
       "      <td>NaN</td>\n",
       "    </tr>\n",
       "    <tr>\n",
       "      <th>max</th>\n",
       "      <td>NaN</td>\n",
       "      <td>NaN</td>\n",
       "      <td>NaN</td>\n",
       "      <td>1000.000000</td>\n",
       "      <td>NaN</td>\n",
       "      <td>50.000000</td>\n",
       "      <td>NaN</td>\n",
       "      <td>NaN</td>\n",
       "      <td>450.000000</td>\n",
       "      <td>NaN</td>\n",
       "      <td>...</td>\n",
       "      <td>NaN</td>\n",
       "      <td>20.000000</td>\n",
       "      <td>110.000000</td>\n",
       "      <td>NaN</td>\n",
       "      <td>NaN</td>\n",
       "      <td>500.000000</td>\n",
       "      <td>NaN</td>\n",
       "      <td>90.000000</td>\n",
       "      <td>NaN</td>\n",
       "      <td>NaN</td>\n",
       "    </tr>\n",
       "  </tbody>\n",
       "</table>\n",
       "<p>11 rows × 21 columns</p>\n",
       "</div>"
      ],
      "text/plain": [
       "       NanoParticles          Coating Reactant  Conc of Reactant(mmol/L)  \\\n",
       "count            141               23      135                116.000000   \n",
       "unique            15               21       23                       NaN   \n",
       "top            AgNPs  cytosol protein    AgNO3                       NaN   \n",
       "freq             100                3       99                       NaN   \n",
       "mean             NaN              NaN      NaN                 25.742328   \n",
       "std              NaN              NaN      NaN                 97.611576   \n",
       "min              NaN              NaN      NaN                  0.010000   \n",
       "25%              NaN              NaN      NaN                  1.000000   \n",
       "50%              NaN              NaN      NaN                  1.000000   \n",
       "75%              NaN              NaN      NaN                 10.000000   \n",
       "max              NaN              NaN      NaN               1000.000000   \n",
       "\n",
       "       Extract(Reducing Agent)  Conc. of Extract Reactant:Extract(v/v) Method  \\\n",
       "count                      133         20.000000                    98      7   \n",
       "unique                      92               NaN                    28      7   \n",
       "top        Wedelia urticifolia               NaN                     9    XRD   \n",
       "freq                        27               NaN                    13      1   \n",
       "mean                       NaN         14.050000                   NaN    NaN   \n",
       "std                        NaN         12.037114                   NaN    NaN   \n",
       "min                        NaN          1.000000                   NaN    NaN   \n",
       "25%                        NaN          8.750000                   NaN    NaN   \n",
       "50%                        NaN         10.000000                   NaN    NaN   \n",
       "75%                        NaN         15.000000                   NaN    NaN   \n",
       "max                        NaN         50.000000                   NaN    NaN   \n",
       "\n",
       "        Temperature(°C) Agitation  ...  Average Size(nm) Min Size(nm)  \\\n",
       "count        129.000000         1  ...               128     4.000000   \n",
       "unique              NaN         1  ...                97          NaN   \n",
       "top                 NaN    130rpm  ...                50          NaN   \n",
       "freq                NaN         1  ...                 7          NaN   \n",
       "mean          44.426357       NaN  ...               NaN    11.565000   \n",
       "std           43.291847       NaN  ...               NaN     5.893236   \n",
       "min           23.000000       NaN  ...               NaN     6.260000   \n",
       "25%           25.000000       NaN  ...               NaN     9.065000   \n",
       "50%           25.000000       NaN  ...               NaN    10.000000   \n",
       "75%           60.000000       NaN  ...               NaN    12.500000   \n",
       "max          450.000000       NaN  ...               NaN    20.000000   \n",
       "\n",
       "        Max Size(nm)      Shape    Dispersity Conc of NPs  Surface area  \\\n",
       "count       4.000000        130            36    9.000000           0.0   \n",
       "unique           NaN         10             6         NaN           NaN   \n",
       "top              NaN  Spherical  Polydisperse         NaN           NaN   \n",
       "freq             NaN        117            26         NaN           NaN   \n",
       "mean       49.192500        NaN           NaN   78.834444           NaN   \n",
       "std        41.380449        NaN           NaN  159.707621           NaN   \n",
       "min        20.000000        NaN           NaN    0.050000           NaN   \n",
       "25%        25.077500        NaN           NaN    1.000000           NaN   \n",
       "50%        33.385000        NaN           NaN   33.330000           NaN   \n",
       "75%        57.500000        NaN           NaN   53.200000           NaN   \n",
       "max       110.000000        NaN           NaN  500.000000           NaN   \n",
       "\n",
       "            yield  Reference  \\\n",
       "count    8.000000        141   \n",
       "unique        NaN         84   \n",
       "top           NaN         46   \n",
       "freq          NaN         27   \n",
       "mean    55.112500        NaN   \n",
       "std     29.382183        NaN   \n",
       "min     13.500000        NaN   \n",
       "25%     31.050000        NaN   \n",
       "50%     62.000000        NaN   \n",
       "75%     74.500000        NaN   \n",
       "max     90.000000        NaN   \n",
       "\n",
       "                                         Title of Article  \n",
       "count                                                 140  \n",
       "unique                                                 84  \n",
       "top     Silver nanoparticles synthesis using Wedelia u...  \n",
       "freq                                                   27  \n",
       "mean                                                  NaN  \n",
       "std                                                   NaN  \n",
       "min                                                   NaN  \n",
       "25%                                                   NaN  \n",
       "50%                                                   NaN  \n",
       "75%                                                   NaN  \n",
       "max                                                   NaN  \n",
       "\n",
       "[11 rows x 21 columns]"
      ]
     },
     "execution_count": 9,
     "metadata": {},
     "output_type": "execute_result"
    }
   ],
   "source": [
    "df.describe(include=\"all\")"
   ]
  },
  {
   "cell_type": "code",
   "execution_count": 10,
   "id": "4e2a3f49",
   "metadata": {},
   "outputs": [
    {
     "name": "stdout",
     "output_type": "stream",
     "text": [
      "<class 'pandas.core.frame.DataFrame'>\n",
      "RangeIndex: 141 entries, 0 to 140\n",
      "Data columns (total 21 columns):\n",
      " #   Column                    Non-Null Count  Dtype  \n",
      "---  ------                    --------------  -----  \n",
      " 0   NanoParticles             141 non-null    object \n",
      " 1   Coating                   23 non-null     object \n",
      " 2   Reactant                  135 non-null    object \n",
      " 3   Conc of Reactant(mmol/L)  116 non-null    float64\n",
      " 4   Extract(Reducing Agent)   133 non-null    object \n",
      " 5   Conc. of Extract          20 non-null     float64\n",
      " 6   Reactant:Extract(v/v)     98 non-null     object \n",
      " 7   Method                    7 non-null      object \n",
      " 8   Temperature(°C)           129 non-null    float64\n",
      " 9   Agitation                 1 non-null      object \n",
      " 10  Time(min)                 118 non-null    float64\n",
      " 11  Average Size(nm)          128 non-null    object \n",
      " 12  Min Size(nm)              4 non-null      float64\n",
      " 13  Max Size(nm)              4 non-null      float64\n",
      " 14  Shape                     130 non-null    object \n",
      " 15  Dispersity                36 non-null     object \n",
      " 16  Conc of NPs               9 non-null      float64\n",
      " 17  Surface area              0 non-null      float64\n",
      " 18  yield                     8 non-null      float64\n",
      " 19  Reference                 141 non-null    object \n",
      " 20  Title of Article          140 non-null    object \n",
      "dtypes: float64(9), object(12)\n",
      "memory usage: 23.3+ KB\n"
     ]
    }
   ],
   "source": [
    "df.info()"
   ]
  },
  {
   "cell_type": "code",
   "execution_count": 11,
   "id": "d56341b1",
   "metadata": {},
   "outputs": [
    {
     "name": "stdout",
     "output_type": "stream",
     "text": [
      "[nan '4' '5.667' '1' '10' '2.5' '49' '20' '9' '0.25' '2' '0.4' '0.1' '5'\n",
      " '100' '0.01' '19' '0.83' '33.33' '2.33' '1.5' '0.67' '0.428' '0.11' '2:1'\n",
      " '0.45' '1.25' '0.5' '0.2']\n"
     ]
    }
   ],
   "source": [
    "print(df['Reactant:Extract(v/v)'].unique())"
   ]
  },
  {
   "cell_type": "code",
   "execution_count": 12,
   "id": "52b3e666",
   "metadata": {},
   "outputs": [],
   "source": [
    "df['Reactant:Extract(v/v)'] = df['Reactant:Extract(v/v)'].str.strip()\n",
    "df['Reactant:Extract(v/v)'] = pd.to_numeric(df['Reactant:Extract(v/v)'], errors='coerce')"
   ]
  },
  {
   "cell_type": "code",
   "execution_count": 13,
   "id": "4da9ed2e",
   "metadata": {},
   "outputs": [
    {
     "data": {
      "text/plain": [
       "dtype('float64')"
      ]
     },
     "execution_count": 13,
     "metadata": {},
     "output_type": "execute_result"
    }
   ],
   "source": [
    "df['Reactant:Extract(v/v)'].dtype"
   ]
  },
  {
   "cell_type": "code",
   "execution_count": 14,
   "id": "e96d7436",
   "metadata": {},
   "outputs": [
    {
     "name": "stdout",
     "output_type": "stream",
     "text": [
      "['30' '35' '42' '39' '68.13' '18.2' nan '3.8' '3' '10' '110' '90' '91'\n",
      " '58' '37' '82' '150' '22.6' '33.67' '23.56' '25.63' '50' '5-30' '15.8'\n",
      " '17' '37.06' '37.88' '37.05' '41.67' '37.07' '28' '25' '100' '42.7' '9.7'\n",
      " '8.4' '20.77' '18.53' '14.27' '20.43' '10.78' '9' '16' '68.5' '75' '55'\n",
      " '4.89' '40' '26' '6.3' '70.2' '25.1' '24.2' '65' '34.2' '86.96' '45.42'\n",
      " '52' '17.5' '11.107' '27.282' '13.5' '21.42' '37.2' '60' '20' '10.3'\n",
      " '110.9' '142.3' '206.5' '216.6' '227.1' '230.2' '244.1' '246.2' '250.4'\n",
      " '107.2' '86.58' '64.86' '57.22' '148.7' '160.8' '199.3' '201.3' '222.6'\n",
      " '107.6' '106.5' '170.8' '178.4' '203.2' '230.1' '240.5' '240.7' '247.7'\n",
      " '12.5' '15' '179.3' '80']\n"
     ]
    }
   ],
   "source": [
    "print(df['Average Size(nm)'].unique())"
   ]
  },
  {
   "cell_type": "code",
   "execution_count": 16,
   "id": "4643ec61",
   "metadata": {},
   "outputs": [
    {
     "data": {
      "text/plain": [
       "0       30\n",
       "1       35\n",
       "2       42\n",
       "3       39\n",
       "4       35\n",
       "      ... \n",
       "136     30\n",
       "137     39\n",
       "138    100\n",
       "139     25\n",
       "140     80\n",
       "Name: Average Size(nm), Length: 141, dtype: object"
      ]
     },
     "execution_count": 16,
     "metadata": {},
     "output_type": "execute_result"
    }
   ],
   "source": [
    "df['Average Size(nm)'].replace('5-30', 17)"
   ]
  },
  {
   "cell_type": "code",
   "execution_count": 17,
   "id": "7d3e3f33",
   "metadata": {},
   "outputs": [],
   "source": [
    "df['Average Size(nm)'] = pd.to_numeric(df['Average Size(nm)'], errors='coerce')"
   ]
  },
  {
   "cell_type": "code",
   "execution_count": 18,
   "id": "648bbeba",
   "metadata": {},
   "outputs": [
    {
     "data": {
      "text/plain": [
       "dtype('float64')"
      ]
     },
     "execution_count": 18,
     "metadata": {},
     "output_type": "execute_result"
    }
   ],
   "source": [
    "df['Average Size(nm)'].dtype"
   ]
  },
  {
   "cell_type": "code",
   "execution_count": 20,
   "id": "2770148c",
   "metadata": {},
   "outputs": [
    {
     "name": "stdout",
     "output_type": "stream",
     "text": [
      "<class 'pandas.core.frame.DataFrame'>\n",
      "RangeIndex: 141 entries, 0 to 140\n",
      "Data columns (total 21 columns):\n",
      " #   Column                    Non-Null Count  Dtype  \n",
      "---  ------                    --------------  -----  \n",
      " 0   NanoParticles             141 non-null    object \n",
      " 1   Coating                   23 non-null     object \n",
      " 2   Reactant                  135 non-null    object \n",
      " 3   Conc of Reactant(mmol/L)  116 non-null    float64\n",
      " 4   Extract(Reducing Agent)   133 non-null    object \n",
      " 5   Conc. of Extract          20 non-null     float64\n",
      " 6   Reactant:Extract(v/v)     97 non-null     float64\n",
      " 7   Method                    7 non-null      object \n",
      " 8   Temperature(°C)           129 non-null    float64\n",
      " 9   Agitation                 1 non-null      object \n",
      " 10  Time(min)                 118 non-null    float64\n",
      " 11  Average Size(nm)          127 non-null    float64\n",
      " 12  Min Size(nm)              4 non-null      float64\n",
      " 13  Max Size(nm)              4 non-null      float64\n",
      " 14  Shape                     130 non-null    object \n",
      " 15  Dispersity                36 non-null     object \n",
      " 16  Conc of NPs               9 non-null      float64\n",
      " 17  Surface area              0 non-null      float64\n",
      " 18  yield                     8 non-null      float64\n",
      " 19  Reference                 141 non-null    object \n",
      " 20  Title of Article          140 non-null    object \n",
      "dtypes: float64(11), object(10)\n",
      "memory usage: 23.3+ KB\n"
     ]
    }
   ],
   "source": [
    "df.info()"
   ]
  },
  {
   "cell_type": "code",
   "execution_count": 21,
   "id": "6622ab77",
   "metadata": {},
   "outputs": [],
   "source": [
    "df_new=df[['NanoParticles', 'Reactant','Conc of Reactant(mmol/L)', 'Extract(Reducing Agent)','Reactant:Extract(v/v)',\n",
    "         'Temperature(°C)','Time(min)', 'Average Size(nm)','Shape']]"
   ]
  },
  {
   "cell_type": "code",
   "execution_count": 22,
   "id": "61203d8b",
   "metadata": {},
   "outputs": [
    {
     "name": "stdout",
     "output_type": "stream",
     "text": [
      "<class 'pandas.core.frame.DataFrame'>\n",
      "RangeIndex: 141 entries, 0 to 140\n",
      "Data columns (total 9 columns):\n",
      " #   Column                    Non-Null Count  Dtype  \n",
      "---  ------                    --------------  -----  \n",
      " 0   NanoParticles             141 non-null    object \n",
      " 1   Reactant                  135 non-null    object \n",
      " 2   Conc of Reactant(mmol/L)  116 non-null    float64\n",
      " 3   Extract(Reducing Agent)   133 non-null    object \n",
      " 4   Reactant:Extract(v/v)     97 non-null     float64\n",
      " 5   Temperature(°C)           129 non-null    float64\n",
      " 6   Time(min)                 118 non-null    float64\n",
      " 7   Average Size(nm)          127 non-null    float64\n",
      " 8   Shape                     130 non-null    object \n",
      "dtypes: float64(5), object(4)\n",
      "memory usage: 10.0+ KB\n"
     ]
    }
   ],
   "source": [
    "df_new.info()"
   ]
  },
  {
   "cell_type": "code",
   "execution_count": 23,
   "id": "1ad38cb4",
   "metadata": {},
   "outputs": [
    {
     "name": "stdout",
     "output_type": "stream",
     "text": [
      "<class 'pandas.core.frame.DataFrame'>\n",
      "Int64Index: 135 entries, 0 to 140\n",
      "Data columns (total 9 columns):\n",
      " #   Column                    Non-Null Count  Dtype  \n",
      "---  ------                    --------------  -----  \n",
      " 0   NanoParticles             135 non-null    object \n",
      " 1   Reactant                  135 non-null    object \n",
      " 2   Conc of Reactant(mmol/L)  116 non-null    float64\n",
      " 3   Extract(Reducing Agent)   132 non-null    object \n",
      " 4   Reactant:Extract(v/v)     97 non-null     float64\n",
      " 5   Temperature(°C)           124 non-null    float64\n",
      " 6   Time(min)                 114 non-null    float64\n",
      " 7   Average Size(nm)          122 non-null    float64\n",
      " 8   Shape                     124 non-null    object \n",
      "dtypes: float64(5), object(4)\n",
      "memory usage: 10.5+ KB\n"
     ]
    }
   ],
   "source": [
    "df_new = df_new.dropna(subset=['Reactant'])\n",
    "df_new.info()"
   ]
  },
  {
   "cell_type": "code",
   "execution_count": 24,
   "id": "7f3aa2bf",
   "metadata": {},
   "outputs": [
    {
     "name": "stdout",
     "output_type": "stream",
     "text": [
      "<class 'pandas.core.frame.DataFrame'>\n",
      "Int64Index: 132 entries, 0 to 139\n",
      "Data columns (total 9 columns):\n",
      " #   Column                    Non-Null Count  Dtype  \n",
      "---  ------                    --------------  -----  \n",
      " 0   NanoParticles             132 non-null    object \n",
      " 1   Reactant                  132 non-null    object \n",
      " 2   Conc of Reactant(mmol/L)  115 non-null    float64\n",
      " 3   Extract(Reducing Agent)   132 non-null    object \n",
      " 4   Reactant:Extract(v/v)     97 non-null     float64\n",
      " 5   Temperature(°C)           122 non-null    float64\n",
      " 6   Time(min)                 113 non-null    float64\n",
      " 7   Average Size(nm)          120 non-null    float64\n",
      " 8   Shape                     121 non-null    object \n",
      "dtypes: float64(5), object(4)\n",
      "memory usage: 10.3+ KB\n"
     ]
    }
   ],
   "source": [
    "df_new = df_new.dropna(subset=['Extract(Reducing Agent)'])\n",
    "df_new.info()"
   ]
  },
  {
   "cell_type": "code",
   "execution_count": 25,
   "id": "e41bad72",
   "metadata": {},
   "outputs": [
    {
     "data": {
      "text/plain": [
       "NanoParticles                0\n",
       "Reactant                     0\n",
       "Conc of Reactant(mmol/L)    17\n",
       "Extract(Reducing Agent)      0\n",
       "Reactant:Extract(v/v)       35\n",
       "Temperature(°C)             10\n",
       "Time(min)                   19\n",
       "Average Size(nm)            12\n",
       "Shape                       11\n",
       "dtype: int64"
      ]
     },
     "execution_count": 25,
     "metadata": {},
     "output_type": "execute_result"
    }
   ],
   "source": [
    "df_new.isna().sum()"
   ]
  },
  {
   "cell_type": "code",
   "execution_count": 26,
   "id": "0dd16f55",
   "metadata": {},
   "outputs": [],
   "source": [
    "df_new['Conc of Reactant(mmol/L)'] = df_new['Conc of Reactant(mmol/L)'].fillna(df_new['Conc of Reactant(mmol/L)'].mean())\n",
    "df_new['Reactant:Extract(v/v)'] = df_new['Reactant:Extract(v/v)'].fillna(df_new['Reactant:Extract(v/v)'].mean())"
   ]
  },
  {
   "cell_type": "code",
   "execution_count": 27,
   "id": "be52b420",
   "metadata": {},
   "outputs": [],
   "source": [
    "df_new['Temperature(°C)'] = df_new['Temperature(°C)'].fillna(25)"
   ]
  },
  {
   "cell_type": "code",
   "execution_count": 28,
   "id": "04bf18db",
   "metadata": {},
   "outputs": [],
   "source": [
    "df_new['Time(min)'] = df_new['Time(min)'].fillna(df_new['Time(min)'].mean())"
   ]
  },
  {
   "cell_type": "code",
   "execution_count": 29,
   "id": "242df946",
   "metadata": {},
   "outputs": [],
   "source": [
    "df_new['Average Size(nm)'] = df_new['Average Size(nm)'].fillna(df_new['Average Size(nm)'].mean())"
   ]
  },
  {
   "cell_type": "code",
   "execution_count": 30,
   "id": "2f1065e2",
   "metadata": {},
   "outputs": [
    {
     "data": {
      "text/plain": [
       "0    Spherical\n",
       "Name: Shape, dtype: object"
      ]
     },
     "execution_count": 30,
     "metadata": {},
     "output_type": "execute_result"
    }
   ],
   "source": [
    "df_new['Shape'].mode()"
   ]
  },
  {
   "cell_type": "code",
   "execution_count": 31,
   "id": "fdafd0ed",
   "metadata": {},
   "outputs": [],
   "source": [
    "df_new['Shape'] = df_new['Shape'].fillna(df_new['Shape'].mode().iloc[0])"
   ]
  },
  {
   "cell_type": "code",
   "execution_count": 32,
   "id": "000e606f",
   "metadata": {},
   "outputs": [
    {
     "data": {
      "text/plain": [
       "NanoParticles               0\n",
       "Reactant                    0\n",
       "Conc of Reactant(mmol/L)    0\n",
       "Extract(Reducing Agent)     0\n",
       "Reactant:Extract(v/v)       0\n",
       "Temperature(°C)             0\n",
       "Time(min)                   0\n",
       "Average Size(nm)            0\n",
       "Shape                       0\n",
       "dtype: int64"
      ]
     },
     "execution_count": 32,
     "metadata": {},
     "output_type": "execute_result"
    }
   ],
   "source": [
    "df_new.isna().sum()"
   ]
  },
  {
   "cell_type": "code",
   "execution_count": 33,
   "id": "e9da58b1",
   "metadata": {},
   "outputs": [
    {
     "name": "stdout",
     "output_type": "stream",
     "text": [
      "<class 'pandas.core.frame.DataFrame'>\n",
      "Int64Index: 132 entries, 0 to 139\n",
      "Data columns (total 9 columns):\n",
      " #   Column                    Non-Null Count  Dtype  \n",
      "---  ------                    --------------  -----  \n",
      " 0   NanoParticles             132 non-null    object \n",
      " 1   Reactant                  132 non-null    object \n",
      " 2   Conc of Reactant(mmol/L)  132 non-null    float64\n",
      " 3   Extract(Reducing Agent)   132 non-null    object \n",
      " 4   Reactant:Extract(v/v)     132 non-null    float64\n",
      " 5   Temperature(°C)           132 non-null    float64\n",
      " 6   Time(min)                 132 non-null    float64\n",
      " 7   Average Size(nm)          132 non-null    float64\n",
      " 8   Shape                     132 non-null    object \n",
      "dtypes: float64(5), object(4)\n",
      "memory usage: 10.3+ KB\n"
     ]
    }
   ],
   "source": [
    "df_new.info()"
   ]
  },
  {
   "cell_type": "code",
   "execution_count": 34,
   "id": "eeaa423c",
   "metadata": {},
   "outputs": [
    {
     "data": {
      "image/png": "[encoded data removed]",
      "text/plain": [
       "<Figure size 640x480 with 2 Axes>"
      ]
     },
     "metadata": {},
     "output_type": "display_data"
    }
   ],
   "source": [
    "dataplot = sns.heatmap(df_new.corr(), cmap=\"YlGnBu\", annot=True)"
   ]
  },
  {
   "cell_type": "code",
   "execution_count": 35,
   "id": "2503621b",
   "metadata": {},
   "outputs": [
    {
     "data": {
      "image/png": "[encoded data removed]",
      "text/plain": [
       "<Figure size 1500x1000 with 5 Axes>"
      ]
     },
     "metadata": {},
     "output_type": "display_data"
    }
   ],
   "source": [
    "# Set the style of the visualization\n",
    "sns.set(style=\"whitegrid\")\n",
    "\n",
    "# Plot distributions of numerical features\n",
    "numerical_columns = df_new.select_dtypes(include=['float64', 'int64']).columns\n",
    "\n",
    "plt.figure(figsize=(15, 10))\n",
    "for i, col in enumerate(numerical_columns, 1):\n",
    "    plt.subplot(3, 4, i)\n",
    "    sns.histplot(df_new[col], kde=True)\n",
    "    plt.title(f'Distribution of {col}')\n",
    "plt.tight_layout()\n",
    "plt.show()"
   ]
  },
  {
   "cell_type": "code",
   "execution_count": 36,
   "id": "85a47896",
   "metadata": {},
   "outputs": [
    {
     "data": {
      "image/png": "[encoded data removed]",
      "text/plain": [
       "<Figure size 800x600 with 1 Axes>"
      ]
     },
     "metadata": {},
     "output_type": "display_data"
    },
    {
     "data": {
      "image/png": "[encoded data removed]",
      "text/plain": [
       "<Figure size 800x600 with 1 Axes>"
      ]
     },
     "metadata": {},
     "output_type": "display_data"
    }
   ],
   "source": [
    "# Distribution of Average Size(nm)\n",
    "plt.figure(figsize=(8, 6))\n",
    "sns.histplot(df_new['Average Size(nm)'], kde=True)\n",
    "plt.title('Distribution of Average Size(nm)')\n",
    "plt.show()\n",
    "\n",
    "# Distribution of Shape\n",
    "plt.figure(figsize=(8, 6))\n",
    "sns.countplot(data=df_new, x='Shape')\n",
    "plt.title('Distribution of Shape')\n",
    "plt.xticks(rotation=45)\n",
    "plt.show()"
   ]
  },
  {
   "cell_type": "code",
   "execution_count": 37,
   "id": "2dc9449a",
   "metadata": {},
   "outputs": [
    {
     "ename": "NameError",
     "evalue": "name 'regressor' is not defined",
     "output_type": "error",
     "traceback": [
      "\u001b[1;31m---------------------------------------------------------------------------\u001b[0m",
      "\u001b[1;31mNameError\u001b[0m                                 Traceback (most recent call last)",
      "\u001b[1;32m~\\AppData\\Local\\Temp\\ipykernel_15416\\429427703.py\u001b[0m in \u001b[0;36m<module>\u001b[1;34m\u001b[0m\n\u001b[0;32m      1\u001b[0m \u001b[1;31m# Feature importance for Average Size(nm)\u001b[0m\u001b[1;33m\u001b[0m\u001b[1;33m\u001b[0m\u001b[0m\n\u001b[1;32m----> 2\u001b[1;33m \u001b[0mimportances\u001b[0m \u001b[1;33m=\u001b[0m \u001b[0mregressor\u001b[0m\u001b[1;33m.\u001b[0m\u001b[0mfeature_importances_\u001b[0m\u001b[1;33m\u001b[0m\u001b[1;33m\u001b[0m\u001b[0m\n\u001b[0m\u001b[0;32m      3\u001b[0m \u001b[0mindices\u001b[0m \u001b[1;33m=\u001b[0m \u001b[0mnp\u001b[0m\u001b[1;33m.\u001b[0m\u001b[0margsort\u001b[0m\u001b[1;33m(\u001b[0m\u001b[0mimportances\u001b[0m\u001b[1;33m)\u001b[0m\u001b[1;33m[\u001b[0m\u001b[1;33m:\u001b[0m\u001b[1;33m:\u001b[0m\u001b[1;33m-\u001b[0m\u001b[1;36m1\u001b[0m\u001b[1;33m]\u001b[0m\u001b[1;33m\u001b[0m\u001b[1;33m\u001b[0m\u001b[0m\n\u001b[0;32m      4\u001b[0m \u001b[1;33m\u001b[0m\u001b[0m\n\u001b[0;32m      5\u001b[0m \u001b[1;31m# Print the feature ranking\u001b[0m\u001b[1;33m\u001b[0m\u001b[1;33m\u001b[0m\u001b[0m\n",
      "\u001b[1;31mNameError\u001b[0m: name 'regressor' is not defined"
     ]
    }
   ],
   "source": [
    "# Feature importance for Average Size(nm)\n",
    "importances = regressor.feature_importances_\n",
    "indices = np.argsort(importances)[::-1]\n",
    "\n",
    "# Print the feature ranking\n",
    "print(\"Feature ranking for Average Size(nm):\")\n",
    "\n",
    "for f in range(X_train_size.shape[1]):\n",
    "    print(f\"{f + 1}. Feature {X_train_size.columns[indices[f]]} ({importances[indices[f]]})\")\n",
    "\n",
    "# Plot the feature importances\n",
    "plt.figure(figsize=(12, 8))\n",
    "plt.title(\"Feature importances for Average Size(nm)\")\n",
    "plt.bar(range(X_train_size.shape[1]), importances[indices], align=\"center\")\n",
    "plt.xticks(range(X_train_size.shape[1]), X_train_size.columns[indices], rotation=90)\n",
    "plt.xlim([-1, X_train_size.shape[1]])\n",
    "plt.show()"
   ]
  },
  {
   "cell_type": "code",
   "execution_count": 38,
   "id": "0b1d9850",
   "metadata": {},
   "outputs": [],
   "source": [
    "from sklearn.model_selection import train_test_split\n",
    "from sklearn.preprocessing import LabelEncoder"
   ]
  },
  {
   "cell_type": "code",
   "execution_count": 39,
   "id": "02a09f65",
   "metadata": {},
   "outputs": [],
   "source": [
    "X = df_new.drop(columns=['Average Size(nm)', 'Shape'])\n",
    "y_size = df_new['Average Size(nm)']\n",
    "y_shape = df_new['Shape']\n",
    "\n",
    "# Encode categorical variables\n",
    "categorical_columns = X.select_dtypes(include=['object']).columns\n",
    "encoder = LabelEncoder()\n",
    "\n",
    "for col in categorical_columns:\n",
    "    X[col] = encoder.fit_transform(X[col])\n",
    "\n",
    "# Split the data into training and testing sets for regression and classification\n",
    "X_train_size, X_test_size, y_train_size, y_test_size = train_test_split(X, y_size, test_size=0.2, random_state=42)\n",
    "X_train_shape, X_test_shape, y_train_shape, y_test_shape = train_test_split(X, y_shape, test_size=0.2, random_state=42)"
   ]
  },
  {
   "cell_type": "code",
   "execution_count": 40,
   "id": "8d725aac",
   "metadata": {},
   "outputs": [
    {
     "name": "stdout",
     "output_type": "stream",
     "text": [
      "Mean Squared Error (MSE) for Average Size(nm) prediction: 1411.0866608336278\n",
      "R-squared (R2) Score for Average Size(nm) prediction: -0.24391462200111702\n"
     ]
    }
   ],
   "source": [
    "from sklearn.ensemble import RandomForestRegressor\n",
    "from sklearn.metrics import mean_squared_error, r2_score\n",
    "\n",
    "# Initialize the model\n",
    "regressor = RandomForestRegressor(random_state=42)\n",
    "\n",
    "# Train the model\n",
    "regressor.fit(X_train_size, y_train_size)\n",
    "\n",
    "# Make predictions\n",
    "y_pred_size = regressor.predict(X_test_size)\n",
    "\n",
    "# Evaluate the model\n",
    "mse = mean_squared_error(y_test_size, y_pred_size)\n",
    "r2 = r2_score(y_test_size, y_pred_size)\n",
    "\n",
    "print(f\"Mean Squared Error (MSE) for Average Size(nm) prediction: {mse}\")\n",
    "print(f\"R-squared (R2) Score for Average Size(nm) prediction: {r2}\")\n"
   ]
  },
  {
   "cell_type": "code",
   "execution_count": 41,
   "id": "140bf0be",
   "metadata": {},
   "outputs": [
    {
     "name": "stdout",
     "output_type": "stream",
     "text": [
      "Accuracy for Shape prediction: 0.9629629629629629\n",
      "Classification Report for Shape prediction:\n",
      "                 precision    recall  f1-score   support\n",
      "\n",
      "Quasi-Spherical       1.00      1.00      1.00         1\n",
      "      Spherical       0.96      1.00      0.98        25\n",
      "    rectangular       0.00      0.00      0.00         1\n",
      "\n",
      "       accuracy                           0.96        27\n",
      "      macro avg       0.65      0.67      0.66        27\n",
      "   weighted avg       0.93      0.96      0.94        27\n",
      "\n"
     ]
    },
    {
     "name": "stderr",
     "output_type": "stream",
     "text": [
      "C:\\Users\\mishr\\AppData\\Roaming\\Python\\Python39\\site-packages\\sklearn\\metrics\\_classification.py:1344: UndefinedMetricWarning: Precision and F-score are ill-defined and being set to 0.0 in labels with no predicted samples. Use `zero_division` parameter to control this behavior.\n",
      "  _warn_prf(average, modifier, msg_start, len(result))\n",
      "C:\\Users\\mishr\\AppData\\Roaming\\Python\\Python39\\site-packages\\sklearn\\metrics\\_classification.py:1344: UndefinedMetricWarning: Precision and F-score are ill-defined and being set to 0.0 in labels with no predicted samples. Use `zero_division` parameter to control this behavior.\n",
      "  _warn_prf(average, modifier, msg_start, len(result))\n",
      "C:\\Users\\mishr\\AppData\\Roaming\\Python\\Python39\\site-packages\\sklearn\\metrics\\_classification.py:1344: UndefinedMetricWarning: Precision and F-score are ill-defined and being set to 0.0 in labels with no predicted samples. Use `zero_division` parameter to control this behavior.\n",
      "  _warn_prf(average, modifier, msg_start, len(result))\n"
     ]
    }
   ],
   "source": [
    "from sklearn.ensemble import RandomForestClassifier\n",
    "from sklearn.metrics import accuracy_score, classification_report\n",
    "\n",
    "# Initialize the model\n",
    "classifier = RandomForestClassifier(random_state=42)\n",
    "\n",
    "# Train the model\n",
    "classifier.fit(X_train_shape, y_train_shape)\n",
    "\n",
    "# Make predictions\n",
    "y_pred_shape = classifier.predict(X_test_shape)\n",
    "\n",
    "# Evaluate the model\n",
    "accuracy = accuracy_score(y_test_shape, y_pred_shape)\n",
    "classification_rep = classification_report(y_test_shape, y_pred_shape)\n",
    "\n",
    "print(f\"Accuracy for Shape prediction: {accuracy}\")\n",
    "print(\"Classification Report for Shape prediction:\")\n",
    "print(classification_rep)"
   ]
  },
  {
   "cell_type": "code",
   "execution_count": 42,
   "id": "5c04fc1b",
   "metadata": {},
   "outputs": [],
   "source": [
    "from sklearn.ensemble import GradientBoostingRegressor\n",
    "from sklearn.svm import SVC\n",
    "from sklearn.metrics import mean_absolute_error"
   ]
  },
  {
   "cell_type": "code",
   "execution_count": 43,
   "id": "ff05b73e",
   "metadata": {},
   "outputs": [
    {
     "name": "stdout",
     "output_type": "stream",
     "text": [
      "Gradient Boosting Regressor - Mean Squared Error (MSE): 1398.4929305555502\n",
      "Gradient Boosting Regressor - Mean Absolute Error (MAE): 30.097329565616267\n",
      "Gradient Boosting Regressor - R-squared (R2) Score: -0.2328128763229429\n"
     ]
    }
   ],
   "source": [
    "# Initialize the Gradient Boosting Regressor\n",
    "gbr = GradientBoostingRegressor(random_state=42)\n",
    "\n",
    "# Train the model\n",
    "gbr.fit(X_train_size, y_train_size)\n",
    "\n",
    "# Make predictions\n",
    "y_pred_gbr = gbr.predict(X_test_size)\n",
    "\n",
    "# Evaluate the model\n",
    "mse_gbr = mean_squared_error(y_test_size, y_pred_gbr)\n",
    "mae_gbr = mean_absolute_error(y_test_size, y_pred_gbr)\n",
    "r2_gbr = r2_score(y_test_size, y_pred_gbr)\n",
    "\n",
    "print(f\"Gradient Boosting Regressor - Mean Squared Error (MSE): {mse_gbr}\")\n",
    "print(f\"Gradient Boosting Regressor - Mean Absolute Error (MAE): {mae_gbr}\")\n",
    "print(f\"Gradient Boosting Regressor - R-squared (R2) Score: {r2_gbr}\")\n"
   ]
  },
  {
   "cell_type": "code",
   "execution_count": 44,
   "id": "0295d274",
   "metadata": {},
   "outputs": [
    {
     "name": "stdout",
     "output_type": "stream",
     "text": [
      "Support Vector Machine Classifier - Accuracy: 0.9259259259259259\n",
      "Support Vector Machine Classifier - Classification Report:\n",
      "                 precision    recall  f1-score   support\n",
      "\n",
      "Quasi-Spherical       0.00      0.00      0.00         1\n",
      "      Spherical       0.93      1.00      0.96        25\n",
      "    rectangular       0.00      0.00      0.00         1\n",
      "\n",
      "       accuracy                           0.93        27\n",
      "      macro avg       0.31      0.33      0.32        27\n",
      "   weighted avg       0.86      0.93      0.89        27\n",
      "\n"
     ]
    },
    {
     "name": "stderr",
     "output_type": "stream",
     "text": [
      "C:\\Users\\mishr\\AppData\\Roaming\\Python\\Python39\\site-packages\\sklearn\\metrics\\_classification.py:1344: UndefinedMetricWarning: Precision and F-score are ill-defined and being set to 0.0 in labels with no predicted samples. Use `zero_division` parameter to control this behavior.\n",
      "  _warn_prf(average, modifier, msg_start, len(result))\n",
      "C:\\Users\\mishr\\AppData\\Roaming\\Python\\Python39\\site-packages\\sklearn\\metrics\\_classification.py:1344: UndefinedMetricWarning: Precision and F-score are ill-defined and being set to 0.0 in labels with no predicted samples. Use `zero_division` parameter to control this behavior.\n",
      "  _warn_prf(average, modifier, msg_start, len(result))\n",
      "C:\\Users\\mishr\\AppData\\Roaming\\Python\\Python39\\site-packages\\sklearn\\metrics\\_classification.py:1344: UndefinedMetricWarning: Precision and F-score are ill-defined and being set to 0.0 in labels with no predicted samples. Use `zero_division` parameter to control this behavior.\n",
      "  _warn_prf(average, modifier, msg_start, len(result))\n"
     ]
    }
   ],
   "source": [
    "# Initialize the Support Vector Machine Classifier\n",
    "svc = SVC(random_state=42)\n",
    "\n",
    "# Train the model\n",
    "svc.fit(X_train_shape, y_train_shape)\n",
    "\n",
    "# Make predictions\n",
    "y_pred_svc = svc.predict(X_test_shape)\n",
    "\n",
    "# Evaluate the model\n",
    "accuracy_svc = accuracy_score(y_test_shape, y_pred_svc)\n",
    "classification_rep_svc = classification_report(y_test_shape, y_pred_svc)\n",
    "\n",
    "print(f\"Support Vector Machine Classifier - Accuracy: {accuracy_svc}\")\n",
    "print(\"Support Vector Machine Classifier - Classification Report:\")\n",
    "print(classification_rep_svc)\n"
   ]
  },
  {
   "cell_type": "code",
   "execution_count": null,
   "id": "0f06ce6e",
   "metadata": {},
   "outputs": [],
   "source": []
  }
 ],
 "metadata": {
  "kernelspec": {
   "display_name": "Python 3 (ipykernel)",
   "language": "python",
   "name": "python3"
  },
  "language_info": {
   "codemirror_mode": {
    "name": "ipython",
    "version": 3
   },
   "file_extension": ".py",
   "mimetype": "text/x-python",
   "name": "python",
   "nbconvert_exporter": "python",
   "pygments_lexer": "ipython3",
   "version": "3.9.13"
  }
 },
 "nbformat": 4,
 "nbformat_minor": 5
}
